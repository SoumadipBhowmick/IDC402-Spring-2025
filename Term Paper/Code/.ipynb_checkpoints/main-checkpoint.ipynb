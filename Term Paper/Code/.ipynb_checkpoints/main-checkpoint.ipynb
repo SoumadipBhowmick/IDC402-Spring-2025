{
 "cells": [
  {
   "cell_type": "code",
   "execution_count": null,
   "metadata": {
    "colab": {
     "base_uri": "https://localhost:8080/"
    },
    "id": "vYmAwiOj8OL7",
    "outputId": "e4e55d71-9936-4c68-c64d-70cec10aada1"
   },
   "outputs": [],
   "source": [
    "! pip install scienceplots"
   ]
  },
  {
   "cell_type": "code",
   "execution_count": null,
   "metadata": {
    "id": "q1I6--nC6hxv"
   },
   "outputs": [],
   "source": [
    "#importing required libraries\n",
    "import numpy as np\n",
    "import scienceplots\n",
    "import matplotlib.pyplot as plt\n",
    "import matplotlib as mpl\n",
    "from scipy.integrate import solve_ivp\n",
    "from matplotlib import animation\n",
    "from mpl_toolkits.mplot3d import Axes3D\n",
    "from matplotlib.animation import PillowWriter\n",
    "from IPython.display import Image,display\n",
    "\n",
    "mpl.rcParams['font.size'] = 18  # Adjusting plot parameters\n",
    "mpl.rcParams['axes.labelsize'] = 18\n",
    "mpl.rcParams['xtick.labelsize'] = 18\n",
    "mpl.rcParams['ytick.labelsize'] = 18\n",
    "mpl.rcParams['legend.fontsize'] = 18\n",
    "mpl.rcParams['figure.titlesize'] = 14\n",
    "plt.style.use(['science','no-latex'])"
   ]
  },
  {
   "cell_type": "code",
   "execution_count": null,
   "metadata": {
    "id": "HVwel3hTEwAv"
   },
   "outputs": [],
   "source": [
    "# initial conditions\n",
    "\n",
    "m1 = 1\n",
    "m2 = 1\n",
    "m3 = m2\n",
    "x1_0 = -1\n",
    "y1_0 = 0\n",
    "x2_0 = 1\n",
    "y2_0 = 0\n",
    "x3_0 = 0\n",
    "y3_0 = 0"
   ]
  },
  {
   "cell_type": "markdown",
   "metadata": {
    "id": "5hjjfJulGH5W"
   },
   "source": [
    "Newton's law of gravitation is given by:\n",
    "\n",
    "$$\n",
    "F = ma = \\frac{GMm}{r^2}\n",
    "$$\n",
    "\n",
    "For a collection of masses, this can be written in terms of:\n",
    "\n",
    "$$\n",
    "\\frac{d^2 \\vec{r_i}}{dt^2} = \\sum_{j \\neq i} \\frac{G m_j}{r_{ij^3}} \\vec{r}_{ij}\n",
    "$$\n",
    "\n",
    "Non-dimensionalize the system\n",
    "$$\n",
    "   \\vec{r_i}' = \\frac{\\vec{r_i}}{L}, \\quad \\vec{r_{ij}}' = \\frac{r_{ij}}{L}$$\n",
    "\n",
    "\n",
    "$$ m_i' = \\frac{m_i}{M}$$\n",
    "\n",
    "$$\n",
    "   t' = t \\sqrt{\\frac{GM}{L^3}}\n",
    "$$\n",
    "\n",
    "   \n",
    "   where $L$ , $M$, $t'$ are a characteristic length, mass , time of the problem.\n",
    "Substituting these dimensionless quantities into the original equation gives:\n",
    "\n",
    "$$\n",
    "\\frac{d^2 \\vec{r}'_i}{d t'^2} = \\sum_{j \\neq i} \\frac{m'_j}{r'^3_{ij}} \\vec{r}'_{ij}\n",
    "$$"
   ]
  },
  {
   "cell_type": "code",
   "execution_count": null,
   "metadata": {
    "id": "iLmHoA4eE0w8"
   },
   "outputs": [],
   "source": [
    "# Define the system\n",
    "def dSdt(t, S):\n",
    "    x1, y1, x2, y2, x3, y3, vx1, vy1, vx2, vy2, vx3, vy3 = S\n",
    "    r12 = np.sqrt((x2-x1)**2 + (y2-y1)**2)\n",
    "    r13 = np.sqrt((x3-x1)**2 + (y3-y1)**2)\n",
    "    r23 = np.sqrt((x2-x3)**2 + (y2-y3)**2)\n",
    "    return [ vx1,\n",
    "            vy1,\n",
    "            vx2,\n",
    "            vy2,\n",
    "            vx3,\n",
    "            vy3,\n",
    "            m2/r12**3 * (x2-x1) + m3/r13**3 * (x3-x1), #mass 1\n",
    "            m2/r12**3 * (y2-y1) + m3/r13**3 * (y3-y1),\n",
    "            m1/r12**3 * (x1-x2) + m3/r23**3 * (x3-x2), #mass 2\n",
    "            m1/r12**3 * (y1-y2) + m3/r23**3 * (y3-y2),\n",
    "            m1/r13**3 * (x1-x3) + m2/r23**3 * (x2-x3), #mass 3\n",
    "            m1/r13**3 * (y1-y3) + m2/r23**3 * (y2-y3)\n",
    "           ]\n"
   ]
  },
  {
   "cell_type": "markdown",
   "metadata": {
    "id": "OFk5mcrvFHtj"
   },
   "source": [
    "# Butterfly"
   ]
  },
  {
   "cell_type": "code",
   "execution_count": null,
   "metadata": {
    "colab": {
     "base_uri": "https://localhost:8080/",
     "height": 975
    },
    "id": "pS5ZHXEdAkui",
    "outputId": "1e1181b5-0661-452a-9892-4da0db05a9f5"
   },
   "outputs": [],
   "source": [
    "\n",
    "vx1_0=0.39295      # these specific velocities generate periodicity\n",
    "vy1_0=0.09758\n",
    "vx2_0 = vx1_0\n",
    "vy2_0 = vy1_0\n",
    "vx3_0 = -2*vx1_0/m3   # ensuring zero net angular momentum\n",
    "vy3_0 = -2*vy1_0/m3\n",
    "\n",
    "\n",
    "t = np.linspace(0, 20, 1000)  # dimensionless timespan\n",
    "\n",
    "#solve using DOP853 and specific rtol,atol\n",
    "sol = solve_ivp(dSdt, (0,20), y0=[x1_0, y1_0, x2_0, y2_0, x3_0, y3_0,\n",
    "                    vx1_0, vy1_0, vx2_0, vy2_0, vx3_0, vy3_0],\n",
    "            method = 'DOP853', t_eval=t, rtol=1e-10, atol=1e-13)\n",
    "\n",
    "t = sol.t\n",
    "x1 = sol.y[0]\n",
    "y1 = sol.y[1]\n",
    "x2 = sol.y[2]\n",
    "y2 = sol.y[3]\n",
    "x3 = sol.y[4]\n",
    "y3 = sol.y[5]\n",
    "\n",
    "# generate an animation of the trajectory\n",
    "def animate(i):\n",
    "    ln1.set_data([x1[i], x2[i], x3[i]], [y1[i], y2[i], y3[i]])\n",
    "    tr1.set_data(x1[:i+1], y1[:i+1])\n",
    "    tr2.set_data(x2[:i+1], y2[:i+1])\n",
    "    tr3.set_data(x3[:i+1], y3[:i+1])\n",
    "\n",
    "fig, ax = plt.subplots(figsize=(6,5))\n",
    "fig.patch.set_facecolor('white')\n",
    "ax.set_facecolor('white')\n",
    "ln1, = plt.plot([], [], 'ko', lw=3, markersize=6)\n",
    "tr1, = plt.plot([], [], 'r--', lw=1)\n",
    "tr2, = plt.plot([], [], 'g--', lw=1)\n",
    "tr3, = plt.plot([], [], 'b--', lw=1)\n",
    "ax.set_ylim(-1.5, 1.5)\n",
    "ax.set_xlim(-1.5,1.5)\n",
    "ax.set_ylabel(r'$y$')\n",
    "ax.set_xlabel(r'$x$')\n",
    "ani = animation.FuncAnimation(fig, animate, frames=1000, interval=50)\n",
    "ani.save(\"butterfly.gif\",writer='pillow',fps=30)\n",
    "display(Image(filename=\"butterfly.gif\"))\n",
    "\n",
    "\n"
   ]
  },
  {
   "cell_type": "markdown",
   "metadata": {
    "id": "9nMMpXyQ8jib"
   },
   "source": [
    "# Moth"
   ]
  },
  {
   "cell_type": "code",
   "execution_count": null,
   "metadata": {
    "colab": {
     "base_uri": "https://localhost:8080/",
     "height": 975
    },
    "id": "k5IjbGVH8eH1",
    "outputId": "aa18fbd6-2dd0-4a27-9342-166681c86ea4"
   },
   "outputs": [],
   "source": [
    "vx1_0=0.46444     # these specific velocities generate periodicity\n",
    "vy1_0=0.39606\n",
    "vx2_0 = vx1_0\n",
    "vy2_0 = vy1_0\n",
    "vx3_0 = -2*vx1_0/m3   # ensuring zero net angular momentum\n",
    "vy3_0 = -2*vy1_0/m3\n",
    "\n",
    "\n",
    "t = np.linspace(0, 40, 2000)  # dimensionless timespan\n",
    "\n",
    "#solve using DOP853 and specific rtol,atol\n",
    "sol = solve_ivp(dSdt, (0,40), y0=[x1_0, y1_0, x2_0, y2_0, x3_0, y3_0,\n",
    "                    vx1_0, vy1_0, vx2_0, vy2_0, vx3_0, vy3_0],\n",
    "            method = 'DOP853', t_eval=t, rtol=1e-10, atol=1e-13)\n",
    "\n",
    "t = sol.t\n",
    "x1 = sol.y[0]\n",
    "y1 = sol.y[1]\n",
    "x2 = sol.y[2]\n",
    "y2 = sol.y[3]\n",
    "x3 = sol.y[4]\n",
    "y3 = sol.y[5]\n",
    "\n",
    "# generate an animation of the trajectory\n",
    "def animate(i):\n",
    "    ln1.set_data([x1[i], x2[i], x3[i]], [y1[i], y2[i], y3[i]])\n",
    "    tr1.set_data(x1[:i+1], y1[:i+1])\n",
    "    tr2.set_data(x2[:i+1], y2[:i+1])\n",
    "    tr3.set_data(x3[:i+1], y3[:i+1])\n",
    "\n",
    "fig, ax = plt.subplots(figsize=(6,5))\n",
    "fig.patch.set_facecolor('white')\n",
    "ax.set_facecolor('white')\n",
    "ln1, = plt.plot([], [], 'ko', lw=3, markersize=6)\n",
    "tr1, = plt.plot([], [], 'r--', lw=1)\n",
    "tr2, = plt.plot([], [], 'g--', lw=1)\n",
    "tr3, = plt.plot([], [], 'b--', lw=1)\n",
    "ax.set_ylim(-1.5, 1.5)\n",
    "ax.set_xlim(-1.5,1.5)\n",
    "ax.set_ylabel(r'$y$')\n",
    "ax.set_xlabel(r'$x$')\n",
    "ani = animation.FuncAnimation(fig, animate, frames=2000, interval=50)\n",
    "ani.save(\"moth.gif\",writer='pillow',fps=30)\n",
    "display(Image(filename=\"moth.gif\"))"
   ]
  },
  {
   "cell_type": "markdown",
   "metadata": {
    "id": "RxJYydvV801w"
   },
   "source": [
    "# Yin Yang"
   ]
  },
  {
   "cell_type": "code",
   "execution_count": null,
   "metadata": {
    "colab": {
     "base_uri": "https://localhost:8080/",
     "height": 975
    },
    "id": "Ykaityno8yOZ",
    "outputId": "3ff5f0af-ceab-402d-dcea-9eb9677e0bdd"
   },
   "outputs": [],
   "source": [
    "vx1_0=0.51394     # these specific velocities generate periodicity\n",
    "vy1_0=0.30474\n",
    "vx2_0 = vx1_0\n",
    "vy2_0 = vy1_0\n",
    "vx3_0 = -2*vx1_0/m3   # ensuring zero net angular momentum\n",
    "vy3_0 = -2*vy1_0/m3\n",
    "\n",
    "\n",
    "t = np.linspace(0, 40, 2000)  # dimensionless timespan\n",
    "\n",
    "\n",
    "#solve using DOP853 and specific rtol,atol\n",
    "sol = solve_ivp(dSdt, (0,40), y0=[x1_0, y1_0, x2_0, y2_0, x3_0, y3_0,\n",
    "                    vx1_0, vy1_0, vx2_0, vy2_0, vx3_0, vy3_0],\n",
    "            method = 'DOP853', t_eval=t, rtol=1e-10, atol=1e-13)\n",
    "\n",
    "t = sol.t\n",
    "x1 = sol.y[0]\n",
    "y1 = sol.y[1]\n",
    "x2 = sol.y[2]\n",
    "y2 = sol.y[3]\n",
    "x3 = sol.y[4]\n",
    "y3 = sol.y[5]\n",
    "\n",
    "# generate an animation of the trajectory\n",
    "def animate(i):\n",
    "    ln1.set_data([x1[i], x2[i], x3[i]], [y1[i], y2[i], y3[i]])\n",
    "    tr1.set_data(x1[:i+1], y1[:i+1])\n",
    "    tr2.set_data(x2[:i+1], y2[:i+1])\n",
    "    tr3.set_data(x3[:i+1], y3[:i+1])\n",
    "\n",
    "fig, ax = plt.subplots(figsize=(6,5))\n",
    "fig.patch.set_facecolor('white')\n",
    "ax.set_facecolor('white')\n",
    "ln1, = plt.plot([], [], 'ko', lw=3, markersize=6)\n",
    "tr1, = plt.plot([], [], 'r--', lw=1)\n",
    "tr2, = plt.plot([], [], 'g--', lw=1)\n",
    "tr3, = plt.plot([], [], 'b--', lw=1)\n",
    "ax.set_ylim(-1.5, 1.5)\n",
    "ax.set_xlim(-1.5,1.5)\n",
    "ax.set_ylabel(r'$y$')\n",
    "ax.set_xlabel(r'$x$')\n",
    "ani = animation.FuncAnimation(fig, animate, frames=2000, interval=50)\n",
    "ani.save(\"yinyang.gif\",writer='pillow',fps=30)\n",
    "display(Image(filename=\"yinyang.gif\"))\n"
   ]
  },
  {
   "cell_type": "code",
   "execution_count": null,
   "metadata": {
    "id": "S8ozvhatQuGG"
   },
   "outputs": [],
   "source": [
    "def poincare_map(sol,k):\n",
    "\n",
    "    crossings = []\n",
    "    for i in range(1, len(sol.t)):\n",
    "        if np.isclose((sol.y[1,i]), (sol.y[1,k]), atol=0.01):\n",
    "            crossings.append((sol.y[0, i], sol.y[6, i], sol.t[i]))  # Record (x, x') pairs\n",
    "\n",
    "\n",
    "    positions, velocities,time = zip(*crossings)\n",
    "\n",
    "    plt.figure(figsize=(6, 5))\n",
    "    plt.scatter(positions, velocities, color='darkgreen', s=8)\n",
    "    plt.xlabel(r\"$x$\")\n",
    "    plt.ylabel(r\"$v_x$\")\n",
    "    plt.savefig(f\"poincare_map_{sol.y[7,35]:.2f}.png\", dpi=300)\n",
    "    plt.show()"
   ]
  },
  {
   "cell_type": "markdown",
   "metadata": {
    "id": "JMonzk7LR44s"
   },
   "source": [
    "# Generate Poincare Section\n",
    "\n",
    "Poincare sections can be used to display the periodic behaviour of the system. Below is a comparison between Yin Yang solution vs a pertubation of $0.1$ in the initial condition"
   ]
  },
  {
   "cell_type": "code",
   "execution_count": null,
   "metadata": {
    "colab": {
     "base_uri": "https://localhost:8080/",
     "height": 915
    },
    "id": "q9NPmLR0RVHr",
    "outputId": "0a355d38-575e-4b57-b7be-8d9d9be29027"
   },
   "outputs": [],
   "source": [
    "\n",
    "\n",
    "vx1_0=0.51394     #periodic soln\n",
    "vy1_0=0.30474\n",
    "\n",
    "vx12_0=0.50394    #perturbed system\n",
    "vy12_0=0.31474\n",
    "\n",
    "vx2_0 = vx1_0\n",
    "vy2_0 = vy1_0\n",
    "vx3_0 = -2*vx1_0/m3\n",
    "vy3_0 = -2*vy1_0/m3\n",
    "\n",
    "\n",
    "t = np.linspace(0, 100, 100_000)\n",
    "\n",
    "\n",
    "\n",
    "sol = solve_ivp(dSdt, (0,100), y0=[x1_0, y1_0, x2_0, y2_0, x3_0, y3_0,\n",
    "                    vx1_0, vy1_0, vx2_0, vy2_0, vx3_0, vy3_0],\n",
    "            method = 'DOP853', t_eval=t, rtol=1e-13, atol=1e-14)\n",
    "\n",
    "\n",
    "sol2 = solve_ivp(dSdt, (0,100), y0=[x1_0, y1_0, x2_0, y2_0, x3_0, y3_0,\n",
    "                    vx12_0, vy12_0, vx2_0, vy2_0, vx3_0, vy3_0],\n",
    "            method = 'DOP853', t_eval=t, rtol=1e-13, atol=1e-14)\n",
    "\n",
    "poincare_map(sol,1)\n",
    "poincare_map(sol2,1)"
   ]
  }
 ],
 "metadata": {
  "colab": {
   "provenance": []
  },
  "kernelspec": {
   "display_name": "Python 3 (ipykernel)",
   "language": "python",
   "name": "python3"
  },
  "language_info": {
   "codemirror_mode": {
    "name": "ipython",
    "version": 3
   },
   "file_extension": ".py",
   "mimetype": "text/x-python",
   "name": "python",
   "nbconvert_exporter": "python",
   "pygments_lexer": "ipython3",
   "version": "3.13.2"
  }
 },
 "nbformat": 4,
 "nbformat_minor": 4
}
